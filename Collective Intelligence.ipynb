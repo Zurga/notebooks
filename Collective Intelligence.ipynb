{
 "cells": [
  {
   "cell_type": "markdown",
   "metadata": {},
   "source": [
    "# Distance Calculation\n",
    "\n",
    "##Euclidian Distance\n",
    "\n",
    "$$\\|P\\|= n \\in P_{n}\\sqrt{p_{n1}^2+p_{n2}^2+\\cdots +p_{n\\dotso}^2} = \\sqrt{p \\cdot p}$$\n",
    "\n",
    "###Met één vector:\n",
    "$$\\langle a, b, c \\rangle \\to \\sqrt{a^2 + b^2 + c^2}$$\n",
    "\n",
    "$$\\langle 3, 4, 5 \\rangle \\to \\sqrt{3^2 + 4^2 + 5^2}$$\n",
    "\n",
    "###Met twee vectoren:\n",
    "$${\\langle a_{x}, a_{y}, a_{z} \\rangle, \\langle b_{x}, b_{y}, b_{z} \\rangle} \\to \\sqrt{(a_{x}-b_{x})^2 + (a_{y}-b_{y})^2 + (a_{z}-b_{z})^2} $$\n",
    "$$\\langle 2, 5, 18 \\rangle, \\langle 7, 31, 43\\rangle \\to \\sqrt{(2-7)^2 + (5-31)^2 + (18 - 43)^2}$$\n",
    "\n",
    "Doordat je het verschil kwadrateert krijg je nooit een negatief getal bij de Euclidian distance."
   ]
  },
  {
   "cell_type": "code",
   "execution_count": 49,
   "metadata": {
    "collapsed": true
   },
   "outputs": [],
   "source": [
    "from math import sqrt\n",
    "import numpy as np\n",
    "from __future__ import division"
   ]
  },
  {
   "cell_type": "code",
   "execution_count": 50,
   "metadata": {
    "collapsed": false
   },
   "outputs": [
    {
     "name": "stdout",
     "output_type": "stream",
     "text": [
      "Non numpy distance [3,4,5]          : 7.07106781187\n",
      "Non numpy distance [3,4,5], [4,5,6] : 1.73205080757\n",
      "With numpy distance [3,4,5]         : 7.07106781187\n",
      "With numpy distance [3,4,5], [4,5,6]: 1.73205080757\n"
     ]
    }
   ],
   "source": [
    "### Example Euclidian distance without numpy\n",
    "\n",
    "def euclidian_non_np(vector_a, vector_b=None): # We assume that we have only one vector.\n",
    "    if vector_b:  # we have two vectors == if vector_b != None\n",
    "        # zip merges two lists, like a zipper on your coat\n",
    "        distance_sums = sum((a - b)**2 for a,b in zip(vector_a, vector_b))  \n",
    "        \n",
    "        return sqrt(distance_sums)\n",
    "    \n",
    "    return sqrt(sum(a**2 for a in vector_a))\n",
    "\n",
    "## example Euclidian distance with one or two vectors using numpy\n",
    "\n",
    "def euclidian_np(a, b=None): # We assume that we have only one vector.\n",
    "    if b:  # we have two vectors\n",
    "        # function ends and return the two vectors\n",
    "        # with numpy arrays we can use minus operator\n",
    "        return np.linalg.norm(np.array(a) - np.array(b)) \n",
    "    \n",
    "    return np.linalg.norm(a)  # we have only one vector\n",
    "\n",
    "print'Non numpy distance [3,4,5]          :', euclidian_non_np([3,4,5])\n",
    "print 'Non numpy distance [3,4,5], [4,5,6] :', euclidian_non_np([3,4,5],[4,5,6])\n",
    "print 'With numpy distance [3,4,5]         :', euclidian_np([3,4,5])\n",
    "print 'With numpy distance [3,4,5], [4,5,6]:', euclidian_np([3,4,5],[4,5,6])"
   ]
  },
  {
   "cell_type": "markdown",
   "metadata": {},
   "source": [
    "# Similarity Calculation\n",
    "## Cosine Similarity\n",
    "\n",
    "$$similarity(A, B) = \\cos() = \\frac{A \\cdot B}{\\|A\\| * \\|B\\|}$$\n",
    "\n",
    "Teller is het dot product van vectoren A en B:\n",
    "\n",
    "$$\n",
    "\\langle 2, 5, 18 \\rangle\n",
    "\\langle 7, 31, 43 \\rangle \\to 2 \\cdot 7 + 5 \\cdot 31 + 18 \\cdot 43\n",
    "$$\n",
    "\n",
    "Noemer is het product van de Euclidean Distances van de vectoren A en B:\n",
    "\n",
    "$$\\langle 2, 5, 18 \\rangle, \\langle 7, 31, 43\\rangle \\to \\sqrt{(2-7)^2 + (5-31)^2 + (18 - 43)^2}$$\n",
    "\n",
    "Uiteindelijk krijg je dan:\n",
    "$$\\frac{2 \\cdot 7 + 5 \\cdot 31 + 18 \\cdot 43}{\\sqrt{(2-7)^2 + (5-31)^2 + (18 - 43)^2}}$$"
   ]
  },
  {
   "cell_type": "code",
   "execution_count": 51,
   "metadata": {
    "collapsed": true
   },
   "outputs": [],
   "source": [
    "def similarity(vector_a, vector_b):\n",
    "    teller = np.vdot(np.array(vector_a), np.array(vector_b)) # dot product of two vectors\n",
    "    noemer = euclidian_np(vector_a, vector_b)  # reusing the euclidian distance\n",
    "    return teller / noemer"
   ]
  },
  {
   "cell_type": "markdown",
   "metadata": {},
   "source": [
    "#Intrinsic en extrinsic search methods\n",
    "\n",
    "##Intrinsic\n",
    "Hierbij zoek je op basis van de inhoud van de documenten. Over de context rond het document wil je niets weten, het document wordt gerepresenteerd als een 'bag of words'. \n",
    "\n",
    "Denk hierbij aan de Nltk corpora of een verzameling pagina's van Wikipedia.\n",
    "Met behulp van TF * IDF (term frequency maal inverse document frequency) kunnen we\n",
    "bepalen welk document het meeste waard is ten opzichte van de zoek term.\n",
    "\n",
    "Omdat het zoeken door documenten veel rekenkracht kost is het het beste om een index te bouwen die de nodig informatie heeft. Als voorbeeld gebruiken we een index die er zo uit zou zien:\n",
    "```\n",
    "index = { __filenames: [lijst met filenames],\n",
    "                    N: het aantal documenten in de index,\n",
    "                woord: { doc1 : TF,\n",
    "                         doc2 : TF,\n",
    "                         doc3 : TF,\n",
    "                           DF : N / aantal document waarin woord vookomt},\n",
    "                woord2: { doc1 : TF,\n",
    "                         doc2 : TF,\n",
    "                         doc3 : TF,\n",
    "                           DF : N / aantal document waarin woord2 vookomt}\n",
    "        }\n",
    "```\n",
    "In een index wil je zoveel mogelijk informatie opslaan tijdens het indexeren. Vandaar dat we een lijst met bestandsnamen bijhouden en het aantal documenten opslaan. Dit zorgt ervoor dat je index zo rijk mogelijk is. "
   ]
  },
  {
   "cell_type": "code",
   "execution_count": null,
   "metadata": {
    "collapsed": true
   },
   "outputs": [],
   "source": []
  }
 ],
 "metadata": {
  "kernelspec": {
   "display_name": "Python 2",
   "language": "python",
   "name": "python2"
  },
  "language_info": {
   "codemirror_mode": {
    "name": "ipython",
    "version": 2
   },
   "file_extension": ".py",
   "mimetype": "text/x-python",
   "name": "python",
   "nbconvert_exporter": "python",
   "pygments_lexer": "ipython2",
   "version": "2.7.9"
  }
 },
 "nbformat": 4,
 "nbformat_minor": 0
}
