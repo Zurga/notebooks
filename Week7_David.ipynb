{
 "cells": [
  {
   "cell_type": "markdown",
   "metadata": {},
   "source": [
    "# Assignment Collective Intelligence Week 7: Information retrieval"
   ]
  },
  {
   "cell_type": "markdown",
   "metadata": {},
   "source": [
    "## Notebook made by   (If not filled in correctly: 0 pts for assignment)\n",
    "\n",
    "__Name(s)__: \n",
    "\n",
    "__Student id(s)__ : \n",
    "\n",
    "### Pledge (taken from [Coursera's Honor Code](https://www.coursera.org/about/terms/honorcode) )\n",
    "\n",
    "Put here a selfie with your photo where you hold a signed paper with the following text: (if this is team work, put two selfies here). The link must be to some place on the web, not to a local file.\n",
    "\n",
    "> My answers to homework, quizzes and exams will be my own work (except for assignments that explicitly permit collaboration).\n",
    "\n",
    ">I will not make solutions to homework, quizzes or exams available to anyone else. This includes both solutions written by me, as well as any official solutions provided by the course staff.\n",
    "\n",
    ">I will not engage in any other activities that will dishonestly improve my results or dishonestly improve/hurt the results of others.\n",
    "\n",
    "<img src='link to your selfie'/>"
   ]
  },
  {
   "cell_type": "code",
   "execution_count": 2,
   "metadata": {
    "collapsed": true
   },
   "outputs": [],
   "source": [
    "from collections import Counter, defaultdict\n",
    "from bs4 import BeautifulSoup\n",
    "import os\n",
    "import glob\n",
    "import nltk\n",
    "import math\n",
    "from __future__ import division\n",
    "\n",
    "\n",
    "import requests\n",
    "import urllib\n",
    "from string import punctuation"
   ]
  },
  {
   "cell_type": "markdown",
   "metadata": {},
   "source": [
    "**Q1** Make a couple of functions which do the following:\n",
    "\n",
    "1. Download all these files: <http://www.ibiblio.org/xml/examples/shakespeare/>, and store them locally in a folder.\n",
    "2. Make a function `index_collection(folder)` which reads in each file `f` in that folder, and returns a dict with words as keys and as values a dict with filenames as keys and how often the word occurs in the filename as values. So:\n",
    "    1. Extract the text\n",
    "    3. tokenize and lower case that text\n",
    "    2. for each token `w`: how often `w` occurs in `f`\n",
    "\n"
   ]
  },
  {
   "cell_type": "code",
   "execution_count": 3,
   "metadata": {
    "collapsed": false
   },
   "outputs": [],
   "source": [
    "def get_files1(url):\n",
    "    !wget -r -np $url\n",
    "\n",
    "def get_files2(url):\n",
    "    soup = BeautifulSoup(requests.get(url).text)\n",
    "    loc = [url + i.get('href') for i in soup.find_all('a') if 'xml' in i.get('href')]\n",
    "\n",
    "    for i in loc:\n",
    "        urllib.URLopener().retrieve(i, 'shakespeare/' + i[48:])"
   ]
  },
  {
   "cell_type": "code",
   "execution_count": 4,
   "metadata": {
    "collapsed": true
   },
   "outputs": [],
   "source": [
    "path_to_my_folder = 'shakespeare'"
   ]
  },
  {
   "cell_type": "code",
   "execution_count": 5,
   "metadata": {
    "collapsed": false
   },
   "outputs": [],
   "source": [
    "def index_collection(folder):\n",
    "    MyIndex = {}\n",
    "    filenames = [f for f in glob.iglob(folder + '/*.xml')]\n",
    "    \n",
    "    for i in filenames:\n",
    "        text = BeautifulSoup(open(i)).text\n",
    "        tokens = [j.lower().encode('UTF-8') for j in nltk.word_tokenize(text) if j not in punctuation]\n",
    "        fd = Counter(tokens)\n",
    "        \n",
    "\n",
    "        for word in fd:\n",
    "            try:\n",
    "                MyIndex[word].update({i[12:]: fd[word]})\n",
    "            except KeyError:\n",
    "                MyIndex[word] = {i[12:]: fd[word]}\n",
    "                \n",
    "    return MyIndex"
   ]
  },
  {
   "cell_type": "code",
   "execution_count": 6,
   "metadata": {
    "collapsed": false
   },
   "outputs": [
    {
     "data": {
      "text/plain": [
       "{'a_and_c.xml': 39,\n",
       " 'all_well.xml': 63,\n",
       " 'as_you.xml': 115,\n",
       " 'com_err.xml': 18,\n",
       " 'coriolan.xml': 29,\n",
       " 'cymbelin.xml': 30,\n",
       " 'dream.xml': 109,\n",
       " 'hamlet.xml': 67,\n",
       " 'hen_iv_1.xml': 28,\n",
       " 'hen_iv_2.xml': 21,\n",
       " 'hen_v.xml': 40,\n",
       " 'hen_vi_1.xml': 26,\n",
       " 'hen_vi_2.xml': 17,\n",
       " 'hen_vi_3.xml': 40,\n",
       " 'hen_viii.xml': 24,\n",
       " 'j_caesar.xml': 34,\n",
       " 'john.xml': 40,\n",
       " 'lear.xml': 52,\n",
       " 'lll.xml': 110,\n",
       " 'm_for_m.xml': 29,\n",
       " 'm_wives.xml': 45,\n",
       " 'macbeth.xml': 19,\n",
       " 'merchant.xml': 58,\n",
       " 'much_ado.xml': 91,\n",
       " 'othello.xml': 79,\n",
       " 'pericles.xml': 26,\n",
       " 'r_and_j.xml': 146,\n",
       " 'rich_ii.xml': 33,\n",
       " 'rich_iii.xml': 66,\n",
       " 't_night.xml': 77,\n",
       " 'taming.xml': 63,\n",
       " 'tempest.xml': 12,\n",
       " 'timon.xml': 34,\n",
       " 'titus.xml': 23,\n",
       " 'troilus.xml': 70,\n",
       " 'two_gent.xml': 165,\n",
       " 'win_tale.xml': 24}"
      ]
     },
     "execution_count": 6,
     "metadata": {},
     "output_type": "execute_result"
    }
   ],
   "source": [
    "# try it out \n",
    "shakespeare = index_collection(path_to_my_folder)\n",
    "\n",
    "# Now I can call \n",
    "shakespeare['love']\n",
    "# and obtain a dict of filename:count pairs"
   ]
  },
  {
   "cell_type": "markdown",
   "metadata": {},
   "source": [
    "**Q2**  Change your function `index_collection(folder)` so that it also stores the document frequency of each word: as follows\n",
    "\n",
    "```\n",
    "shakespeare['macbeth'] = (document_frequency of 'macbeth', dict of filename:count pairs)\n",
    "```"
   ]
  },
  {
   "cell_type": "code",
   "execution_count": 7,
   "metadata": {
    "collapsed": false
   },
   "outputs": [],
   "source": [
    "def index_collection_plusDF(folder):\n",
    "    docfreq = index_collection(folder)\n",
    "    filenames = [f for f in glob.iglob(folder + '/*.xml')]\n",
    "    MyIndex = {i: (len(docfreq[i]) / len(filenames), docfreq[i]) \n",
    "               for i in docfreq}\n",
    "    \n",
    "    return MyIndex"
   ]
  },
  {
   "cell_type": "code",
   "execution_count": 8,
   "metadata": {
    "collapsed": false
   },
   "outputs": [],
   "source": [
    "shakespeare_df = index_collection_plusDF(path_to_my_folder)"
   ]
  },
  {
   "cell_type": "code",
   "execution_count": 9,
   "metadata": {
    "collapsed": false
   },
   "outputs": [
    {
     "data": {
      "text/plain": [
       "(1.0,\n",
       " {'a_and_c.xml': 39,\n",
       "  'all_well.xml': 63,\n",
       "  'as_you.xml': 115,\n",
       "  'com_err.xml': 18,\n",
       "  'coriolan.xml': 29,\n",
       "  'cymbelin.xml': 30,\n",
       "  'dream.xml': 109,\n",
       "  'hamlet.xml': 67,\n",
       "  'hen_iv_1.xml': 28,\n",
       "  'hen_iv_2.xml': 21,\n",
       "  'hen_v.xml': 40,\n",
       "  'hen_vi_1.xml': 26,\n",
       "  'hen_vi_2.xml': 17,\n",
       "  'hen_vi_3.xml': 40,\n",
       "  'hen_viii.xml': 24,\n",
       "  'j_caesar.xml': 34,\n",
       "  'john.xml': 40,\n",
       "  'lear.xml': 52,\n",
       "  'lll.xml': 110,\n",
       "  'm_for_m.xml': 29,\n",
       "  'm_wives.xml': 45,\n",
       "  'macbeth.xml': 19,\n",
       "  'merchant.xml': 58,\n",
       "  'much_ado.xml': 91,\n",
       "  'othello.xml': 79,\n",
       "  'pericles.xml': 26,\n",
       "  'r_and_j.xml': 146,\n",
       "  'rich_ii.xml': 33,\n",
       "  'rich_iii.xml': 66,\n",
       "  't_night.xml': 77,\n",
       "  'taming.xml': 63,\n",
       "  'tempest.xml': 12,\n",
       "  'timon.xml': 34,\n",
       "  'titus.xml': 23,\n",
       "  'troilus.xml': 70,\n",
       "  'two_gent.xml': 165,\n",
       "  'win_tale.xml': 24})"
      ]
     },
     "execution_count": 9,
     "metadata": {},
     "output_type": "execute_result"
    }
   ],
   "source": [
    "shakespeare_df['love']"
   ]
  },
  {
   "cell_type": "markdown",
   "metadata": {},
   "source": [
    "**Q3** Create a function `query(index,string)` which does information retrieval on a created index.\n",
    "\n",
    "1. It first tokenizes string into a list `L` of keywords .\n",
    "2. Then it computes `sum(score(w,doc) for w in L)` for each document `doc` in our collection.\n",
    "3. `score(w,doc)` is simply `(TF(w,doc) * IDF(w)) `, where `TF(w,doc)` is the raw frequency of `w` in `doc` and `IDF(w)` is the inverse document frequency as defined in [G. Adomavicius and A. Tuzhilin. \"Towards the Next Generation of Recommender Systems: A Survey of the State-of-the-Art and Possible Extensions.\" IEEE Transactions on Knowledge and Data Engineering, vol. 17, no. 6, June 2005. ](http://web.stanford.edu/class/ee378b/papers/adomavicius-recsys.pdf) \n",
    "4. The output is a list of `(score,filename)` pairs sorted on `score`. "
   ]
  },
  {
   "cell_type": "code",
   "execution_count": 32,
   "metadata": {
    "collapsed": false
   },
   "outputs": [
    {
     "name": "stdout",
     "output_type": "stream",
     "text": [
      "CPU times: user 229 ms, sys: 40.6 ms, total: 269 ms\n",
      "Wall time: 214 ms\n"
     ]
    },
    {
     "data": {
      "text/plain": [
       "[(0.00857561148321794, 'j_caesar.xml'),\n",
       " (0.0069610557200968405, 'a_and_c.xml'),\n",
       " (0.0004018160772575064, 'cymbelin.xml'),\n",
       " (8.290827970490239e-05, 'rich_iii.xml'),\n",
       " (5.6791694727773335e-05, 'hen_vi_1.xml'),\n",
       " (5.651239525821715e-05, 'm_for_m.xml'),\n",
       " (4.98395164313168e-05, 'hen_vi_3.xml'),\n",
       " (4.8578952110338136e-05, 'hen_vi_2.xml'),\n",
       " (4.048098478363605e-05, 'hamlet.xml'),\n",
       " (3.561772838166866e-05, 'macbeth.xml'),\n",
       " (2.996218906122028e-05, 'titus.xml'),\n",
       " (2.871763760245536e-05, 'as_you.xml'),\n",
       " (2.8433401598881568e-05, 'lll.xml'),\n",
       " (2.7666207284258364e-05, 'm_wives.xml'),\n",
       " (2.7259967012057097e-05, 'rich_ii.xml'),\n",
       " (2.6780203860561093e-05, 'all_well.xml'),\n",
       " (2.385137363482031e-05, 'hen_v.xml'),\n",
       " (2.354633221967087e-05, 'hen_iv_2.xml'),\n",
       " (2.325873088388707e-05, 'othello.xml'),\n",
       " (0.0, 'win_tale.xml'),\n",
       " (0.0, 'two_gent.xml'),\n",
       " (0.0, 'troilus.xml'),\n",
       " (0.0, 'timon.xml'),\n",
       " (0.0, 'tempest.xml'),\n",
       " (0.0, 'taming.xml'),\n",
       " (0.0, 't_night.xml'),\n",
       " (0.0, 'r_and_j.xml'),\n",
       " (0.0, 'pericles.xml'),\n",
       " (0.0, 'much_ado.xml'),\n",
       " (0.0, 'merchant.xml'),\n",
       " (0.0, 'lear.xml'),\n",
       " (0.0, 'john.xml'),\n",
       " (0.0, 'hen_viii.xml'),\n",
       " (0.0, 'hen_iv_1.xml'),\n",
       " (0.0, 'dream.xml'),\n",
       " (0.0, 'coriolan.xml'),\n",
       " (0.0, 'com_err.xml')]"
      ]
     },
     "execution_count": 32,
     "metadata": {},
     "output_type": "execute_result"
    }
   ],
   "source": [
    "def score(w, doc, index):\n",
    "    if index[w][0] == 1.0: # w exists in all documents\n",
    "        return 0.0\n",
    "    \n",
    "    elif doc not in index[w][1]: # w doesn't exist in given doc\n",
    "        return 0.0\n",
    "    \n",
    "    else:\n",
    "        TF = index[w][1][doc] / sum(index[i][1][doc] for i in index if doc in index[i][1]) # normalised\n",
    "        #TF = index[w][1][doc]\n",
    "        IDF =  math.log(1/index[w][0])\n",
    "        return TF * IDF\n",
    "\n",
    "def query(index, string):    \n",
    "    docs = [i[12:] for i in glob.iglob('shakespeare/*.xml')]\n",
    "    L = [i.lower() for i in nltk.word_tokenize(string) if i not in punctuation]\n",
    "\n",
    "    return sorted([(sum(score(w, d, index) for w in L), d) for d in docs], reverse = True)\n",
    "   \n",
    "# test\n",
    " \n",
    "%time query(shakespeare_df, 'caesar')"
   ]
  },
  {
   "cell_type": "markdown",
   "metadata": {},
   "source": [
    "**Q4** Argue that you have just implemented the dot-product of the query-vector and the document-vector. \n",
    "\n",
    "* Experiment with adding the same term multiple times to the query. What happens? Does that make sense?"
   ]
  },
  {
   "cell_type": "markdown",
   "metadata": {},
   "source": [
    "### PageRank"
   ]
  },
  {
   "cell_type": "code",
   "execution_count": 193,
   "metadata": {
    "collapsed": false
   },
   "outputs": [
    {
     "data": {
      "image/png": "[encoded data removed]",
      "text/plain": [
       "<matplotlib.figure.Figure at 0x7fdeb9d42e90>"
      ]
     },
     "metadata": {},
     "output_type": "display_data"
    }
   ],
   "source": [
    "%matplotlib inline\n",
    "import networkx as nx\n",
    "\n",
    "# Create a typical power law directed network\n",
    "H = nx.gnc_graph(10)\n",
    "nx.draw(H, pos=pos, with_labels = True)\n"
   ]
  },
  {
   "cell_type": "code",
   "execution_count": 194,
   "metadata": {
    "collapsed": false
   },
   "outputs": [
    {
     "name": "stdout",
     "output_type": "stream",
     "text": [
      "CPU times: user 1.33 ms, sys: 0 ns, total: 1.33 ms\n",
      "Wall time: 1.11 ms\n"
     ]
    },
    {
     "data": {
      "text/plain": [
       "{0: 0.39339965470297483,\n",
       " 1: 0.06902545030082352,\n",
       " 2: 0.14755026978207342,\n",
       " 3: 0.07537300735901764,\n",
       " 4: 0.04843901913878966,\n",
       " 5: 0.062163306580145565,\n",
       " 6: 0.05873223471980659,\n",
       " 7: 0.04843901913878966,\n",
       " 8: 0.04843901913878966,\n",
       " 9: 0.04843901913878966}"
      ]
     },
     "execution_count": 194,
     "metadata": {},
     "output_type": "execute_result"
    }
   ],
   "source": [
    "# compute pagerank\n",
    "% time nx.pagerank(H)"
   ]
  },
  {
   "cell_type": "code",
   "execution_count": 195,
   "metadata": {
    "collapsed": false
   },
   "outputs": [
    {
     "data": {
      "text/plain": [
       "(2, [0, 1], [(9, 0), (9, 1)])"
      ]
     },
     "execution_count": 195,
     "metadata": {},
     "output_type": "execute_result"
    }
   ],
   "source": [
    "# some handy functions\n",
    "n = 9\n",
    "H.out_degree(n), H.neighbors(n), H.edges(n)"
   ]
  },
  {
   "cell_type": "code",
   "execution_count": 196,
   "metadata": {
    "collapsed": false
   },
   "outputs": [
    {
     "name": "stdout",
     "output_type": "stream",
     "text": [
      "[] 0\n",
      "[0] 1\n",
      "[0] 1\n",
      "[0, 2] 2\n",
      "[0] 1\n",
      "[0, 2] 2\n",
      "[0, 2, 3] 3\n",
      "[0, 2, 5] 3\n",
      "[0, 2, 3, 6] 4\n",
      "[0, 1] 2\n"
     ]
    }
   ],
   "source": [
    "for n in H.nodes():\n",
    "    print H.neighbors(n), H.out_degree(n)"
   ]
  },
  {
   "cell_type": "code",
   "execution_count": 197,
   "metadata": {
    "collapsed": false
   },
   "outputs": [
    {
     "data": {
      "text/plain": [
       "[1, 2, 3, 4, 5, 6, 7, 8, 9]"
      ]
     },
     "execution_count": 197,
     "metadata": {},
     "output_type": "execute_result"
    }
   ],
   "source": [
    "[i[0] for i in H.in_edges(0)]"
   ]
  },
  {
   "cell_type": "code",
   "execution_count": 198,
   "metadata": {
    "collapsed": false
   },
   "outputs": [
    {
     "name": "stdout",
     "output_type": "stream",
     "text": [
      "0 [1, 2, 3, 4, 5, 6, 7, 8, 9]\n",
      "1 [9]\n",
      "2 [3, 5, 6, 7, 8]\n",
      "3 [6, 8]\n",
      "5 [7]\n",
      "6 [8]\n"
     ]
    }
   ],
   "source": [
    "## Return all nodes which point to n\n",
    "def looks_at_me(H, n):\n",
    "    return [k for (k, x) in H.edges() if x == n]\n",
    "\n",
    "for n in H.nodes():\n",
    "    if not looks_at_me(H, n) == []:\n",
    "        print n, looks_at_me(H, n)"
   ]
  },
  {
   "cell_type": "markdown",
   "metadata": {},
   "source": [
    "**Q5** Use the iterative pagerank calculation in <http://en.wikipedia.org/wiki/PageRank#Iterative>\n",
    "  to create a function `my_pagerank(H,iterations=20)` which calculates the pagerank of each node. The output is, just as with `nx.pagerank()` a dict with nodes as keys and pageranks as values.\n",
    "\n",
    "There are several definitions of PageRank. The most useful is when we can view the distribution of PageRank over the nodes as a probability distribution. This means the values of all nodes have to sum to 1.\n",
    "\n",
    "So after computing the PageRanks, normalize the values, so that they sum to one. The [wikipedia article on pagerank](http://en.wikipedia.org/wiki/PageRank) also makes this point.\n",
    "\n"
   ]
  },
  {
   "cell_type": "code",
   "execution_count": 199,
   "metadata": {
    "collapsed": false
   },
   "outputs": [],
   "source": [
    "def my_pagerank2(H, iters = 200, d =.85):\n",
    "    N = len(H)\n",
    "    \n",
    "    # create dict at t = 0\n",
    "    r = dict.fromkeys(H, 1 / N)\n",
    "    \n",
    "    for _ in range(iters):\n",
    "        for n in r:\n",
    "            n_neighbours = [i[0] for i in H.in_edges(n)]\n",
    "            r[n] = (1 - d / N) + d * \\\n",
    "                sum(r[n2] / H.out_degree(n2) for n2 in n_neighbours)\n",
    "\n",
    "    # normalize\n",
    "    norm = sum(r.values())\n",
    "    return {k: r[k] / norm for k in r}"
   ]
  },
  {
   "cell_type": "markdown",
   "metadata": {},
   "source": [
    "**Q6**\n",
    "Compare your result and that of networkx  by calculating the maximum squared error (= difference) over the nodes. You may even investigate the effect of the number of iterations on rather large networks.\n",
    "\n",
    " "
   ]
  },
  {
   "cell_type": "code",
   "execution_count": 213,
   "metadata": {
    "collapsed": false
   },
   "outputs": [
    {
     "data": {
      "text/plain": [
       "6.127602820253407e-08"
      ]
     },
     "execution_count": 213,
     "metadata": {},
     "output_type": "execute_result"
    }
   ],
   "source": [
    "import numpy as np\n",
    "def RMSE(list1, list2):\n",
    "    return math.sqrt(np.mean([(k - v) ** 2 for k, v in zip(list1, list2)]))\n",
    "\n",
    "RMSE(my_pagerank2(H, 200).values(), nx.pagerank(H).values())"
   ]
  },
  {
   "cell_type": "markdown",
   "metadata": {},
   "source": [
    "**Q7** Compute the person correlation between your result and that of networkx.\n",
    "* HINT: in the notebook <http://nbviewer.ipython.org/url/maartenmarx.nl/teaching/CollectieveIntelligentie/NoteBooks/InformationRetrieval.ipynb> we created a pandas series from a list, but you can just as easily in the same way create a series from a dict. Then use pandas correlation."
   ]
  },
  {
   "cell_type": "code",
   "execution_count": 214,
   "metadata": {
    "collapsed": false
   },
   "outputs": [
    {
     "name": "stdout",
     "output_type": "stream",
     "text": [
      "      0   1   2   3   4   5   6   7   8   9\n",
      "PR1 NaN NaN NaN NaN NaN NaN NaN NaN NaN NaN\n",
      "PR2 NaN NaN NaN NaN NaN NaN NaN NaN NaN NaN\n"
     ]
    }
   ],
   "source": [
    "import pandas as pd\n",
    "\n",
    "df = pd.DataFrame(my_pagerank2(H, 200), index = ['PR1']) + pd.DataFrame(nx.pagerank(H), index = ['PR2'])\n",
    "\n",
    "print df"
   ]
  },
  {
   "cell_type": "code",
   "execution_count": 205,
   "metadata": {
    "collapsed": true
   },
   "outputs": [],
   "source": [
    "df = pd.DataFrame.from_dict"
   ]
  },
  {
   "cell_type": "markdown",
   "metadata": {},
   "source": [
    "**Q8** Compare your, hopefully very declarative and short (it can be done in 5 lines of readable code) definition of pagerank with that in the Collective Intelligence book, on page 71. \n",
    "\n",
    "* Do you obtain different values?\n",
    "* Compare readability.\n",
    "* Why would you want to store this information in a database while doing the computation? "
   ]
  },
  {
   "cell_type": "code",
   "execution_count": null,
   "metadata": {
    "collapsed": true
   },
   "outputs": [],
   "source": []
  }
 ],
 "metadata": {
  "kernelspec": {
   "display_name": "Python 2",
   "language": "python",
   "name": "python2"
  },
  "language_info": {
   "codemirror_mode": {
    "name": "ipython",
    "version": 2
   },
   "file_extension": ".py",
   "mimetype": "text/x-python",
   "name": "python",
   "nbconvert_exporter": "python",
   "pygments_lexer": "ipython2",
   "version": "2.7.8"
  }
 },
 "nbformat": 4,
 "nbformat_minor": 0
}
