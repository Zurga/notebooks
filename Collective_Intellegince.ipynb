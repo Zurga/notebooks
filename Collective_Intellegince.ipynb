{
 "cells": [
  {
   "cell_type": "markdown",
   "metadata": {},
   "source": [
    "# Distance Calculation\n",
    "\n",
    "##Euclidian Distance\n",
    "\n",
    "$$\\|P\\|= n \\in P_{n}\\sqrt{p_{n1}^2+p_{n2}^2+\\cdots +p_{n\\dotso}^2} = \\sqrt{p \\cdot p}$$\n",
    "\n",
    "###Met één vector:\n",
    "$$\\langle a, b, c \\rangle \\to \\sqrt{a^2 + b^2 + c^2}$$\n",
    "\n",
    "$$\\langle 3, 4, 5 \\rangle \\to \\sqrt{3^2 + 4^2 + 5^2}$$\n",
    "\n",
    "###Met twee vectoren:\n",
    "$${\\langle a_{x}, a_{y}, a_{z} \\rangle, \\langle b_{x}, b_{y}, b_{z} \\rangle} \\to \\sqrt{(a_{x}-b_{x})^2 + (a_{y}-b_{y})^2 + (a_{z}-b_{z})^2} $$\n",
    "$$\\langle 2, 5, 18 \\rangle, \\langle 7, 31, 43\\rangle \\to \\sqrt{(2-7)^2 + (5-31)^2 + (18 - 43)^2}$$\n",
    "\n",
    "Doordat je het verschil kwadrateert krijg je nooit een negatief getal bij de Euclidian distance."
   ]
  },
  {
   "cell_type": "code",
   "execution_count": 48,
   "metadata": {
    "collapsed": false
   },
   "outputs": [
    {
     "name": "stdout",
     "output_type": "stream",
     "text": [
      "Non numpy distance [3,4,5]          : 7.07106781187\n",
      "Non numpy distance [3,4,5], [4,5,6] : 1.73205080757\n",
      "With numpy distance [3,4,5]         : 7.07106781187\n",
      "With numpy distance [3,4,5], [4,5,6]: 1.73205080757\n"
     ]
    }
   ],
   "source": [
    "from math import sqrt\n",
    "import numpy as np\n",
    "\n",
    "### Example Euclidian distance without numpy\n",
    "\n",
    "def euclidian_non_np(vector_a, vector_b=None): # We assume that we have only one vector.\n",
    "    if vector_b:  # we have two vectors == if vector_b != None\n",
    "        # zip merges two lists, like a zipper on your coat\n",
    "        distance_sums = sum((a - b)**2 for a,b in zip(vector_a, vector_b))  \n",
    "        \n",
    "        return sqrt(distance_sums)\n",
    "    \n",
    "    return sqrt(sum(a**2 for a in vector_a))\n",
    "\n",
    "## example Euclidian distance with one or two vectors using numpy\n",
    "\n",
    "def euclidian_np(a, b=None): # We assume that we have only one vector.\n",
    "    if b:  # we have two vectors\n",
    "        # function ends and return the two vectors\n",
    "        # with numpy arrays we can use minus operator\n",
    "        return np.linalg.norm(np.array(a) - np.array(b)) \n",
    "    \n",
    "    return np.linalg.norm(a)  # we have only one vector\n",
    "\n",
    "print'Non numpy distance [3,4,5]          :', euclidian_non_np([3,4,5])\n",
    "print 'Non numpy distance [3,4,5], [4,5,6] :', euclidian_non_np([3,4,5],[4,5,6])\n",
    "print 'With numpy distance [3,4,5]         :', euclidian_np([3,4,5])\n",
    "print 'With numpy distance [3,4,5], [4,5,6]:', euclidian_np([3,4,5],[4,5,6])"
   ]
  },
  {
   "cell_type": "code",
   "execution_count": null,
   "metadata": {
    "collapsed": true
   },
   "outputs": [],
   "source": []
  }
 ],
 "metadata": {
  "kernelspec": {
   "display_name": "Python 2",
   "language": "python",
   "name": "python2"
  },
  "language_info": {
   "codemirror_mode": {
    "name": "ipython",
    "version": 2
   },
   "file_extension": ".py",
   "mimetype": "text/x-python",
   "name": "python",
   "nbconvert_exporter": "python",
   "pygments_lexer": "ipython2",
   "version": "2.7.9"
  }
 },
 "nbformat": 4,
 "nbformat_minor": 0
}
